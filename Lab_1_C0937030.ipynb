{
  "nbformat": 4,
  "nbformat_minor": 0,
  "metadata": {
    "colab": {
      "provenance": []
    },
    "kernelspec": {
      "name": "python3",
      "display_name": "Python 3"
    },
    "language_info": {
      "name": "python"
    }
  },
  "cells": [
    {
      "cell_type": "markdown",
      "source": [
        "# SECTION 1: Numerical Data types and Arithmetic Operators"
      ],
      "metadata": {
        "id": "2uy4WABfvhF-"
      }
    },
    {
      "cell_type": "code",
      "execution_count": null,
      "metadata": {
        "id": "LbdP7i0wuJFX"
      },
      "outputs": [],
      "source": [
        "fuel_efficiency = 11.5  # kms/liter\n",
        "total_trip_distance = 475  # kms\n",
        "fuel_price = 1.65       # $/liter\n",
        "tank_capacity = 50      # liters\n"
      ]
    },
    {
      "cell_type": "markdown",
      "source": [
        "Question A:"
      ],
      "metadata": {
        "id": "HZuRhMpCvzjd"
      }
    },
    {
      "cell_type": "code",
      "source": [
        "total_fuel_required = total_trip_distance / fuel_efficiency\n",
        "print(total_fuel_required)"
      ],
      "metadata": {
        "colab": {
          "base_uri": "https://localhost:8080/"
        },
        "id": "gXjWJqFlx8IR",
        "outputId": "3e5c6f08-ecde-48b1-ee5e-52dbd7bb81f0"
      },
      "execution_count": null,
      "outputs": [
        {
          "output_type": "stream",
          "name": "stdout",
          "text": [
            "41.30434782608695\n"
          ]
        }
      ]
    },
    {
      "cell_type": "markdown",
      "source": [
        "Explanation: to find out the total fuel required for the entire journey we divided total trip distance by the efficiency of the vehicle , that is 475kms by 11.5 kms/liter equals to 41.3 liters."
      ],
      "metadata": {
        "id": "1RgY91w0yhC4"
      }
    },
    {
      "cell_type": "markdown",
      "source": [
        "Question B:"
      ],
      "metadata": {
        "id": "DQJjNnL3y7w-"
      }
    },
    {
      "cell_type": "code",
      "source": [
        "full_tanks = total_fuel_required/ tank_capacity\n",
        "print(full_tanks)"
      ],
      "metadata": {
        "colab": {
          "base_uri": "https://localhost:8080/"
        },
        "id": "HhZoEFgr5uCI",
        "outputId": "eb8a9410-c7a7-4984-e350-9f8924cf3b0b"
      },
      "execution_count": null,
      "outputs": [
        {
          "output_type": "stream",
          "name": "stdout",
          "text": [
            "0.826086956521739\n"
          ]
        }
      ]
    },
    {
      "cell_type": "markdown",
      "source": [
        "Explanation: To figure out the number of tanks that will be required to be full for the entire trip, we divided the total fuel by the entire tank capacity in liters that results in 0.82 which indicates to 0 full tanks approximately."
      ],
      "metadata": {
        "id": "XB9kcA8w6dDY"
      }
    },
    {
      "cell_type": "markdown",
      "source": [
        "  Question C:"
      ],
      "metadata": {
        "id": "RL8a_rBa7GkW"
      }
    },
    {
      "cell_type": "code",
      "source": [
        "total_fuel_cost= total_fuel_required * fuel_price\n",
        "print( total_fuel_cost)"
      ],
      "metadata": {
        "colab": {
          "base_uri": "https://localhost:8080/"
        },
        "id": "BJeHolN_7KNt",
        "outputId": "42a94f5f-9548-4c52-8d65-f3346c6f9c82"
      },
      "execution_count": null,
      "outputs": [
        {
          "output_type": "stream",
          "name": "stdout",
          "text": [
            "68.15217391304347\n"
          ]
        }
      ]
    },
    {
      "cell_type": "markdown",
      "source": [
        "Explanation: to find out the total cost associated with the fuel for the trip, we multiply the total_ fuel required by the cost of fuel per liter. 41.3kms into $ 1.65/ liter."
      ],
      "metadata": {
        "id": "4oLla6EK7tYN"
      }
    },
    {
      "cell_type": "markdown",
      "source": [
        "Question D:"
      ],
      "metadata": {
        "id": "iZtB9x-m8Yz4"
      }
    },
    {
      "cell_type": "code",
      "source": [
        "total_fuel_remaining= tank_capacity-total_fuel_required\n",
        "print(round(total_fuel_remaining,2))"
      ],
      "metadata": {
        "colab": {
          "base_uri": "https://localhost:8080/"
        },
        "id": "aUNhftVs8b2m",
        "outputId": "c95b1e0a-d6a4-40df-c34d-19a4a40ee6d8"
      },
      "execution_count": null,
      "outputs": [
        {
          "output_type": "stream",
          "name": "stdout",
          "text": [
            "8.7\n"
          ]
        }
      ]
    },
    {
      "cell_type": "markdown",
      "source": [
        "To find how much fuel was left after the end of the entire trip, we deduct the fuel required from the entire fuel tank capacity of the vehicle ,             \n",
        "  i.e 50-41.3 =8.7"
      ],
      "metadata": {
        "id": "y2FuWHYZ9Fpr"
      }
    },
    {
      "cell_type": "markdown",
      "source": [
        "# **SECTION 2: Comparison and Logical Operators:**"
      ],
      "metadata": {
        "id": "iuzJQZN19xBs"
      }
    },
    {
      "cell_type": "code",
      "source": [
        "age = 30\n",
        "is_weekday = True\n",
        "is_family_day = False\n",
        "group_size = 3\n"
      ],
      "metadata": {
        "id": "2PJQ6I4690Rm"
      },
      "execution_count": null,
      "outputs": []
    },
    {
      "cell_type": "markdown",
      "source": [
        "Question A:"
      ],
      "metadata": {
        "id": "n8qR-DxG-Bi1"
      }
    },
    {
      "cell_type": "code",
      "source": [
        "discount = ((age <= 12 and is_weekday) or (age >= 65) or (is_family_day and group_size >= 4))\n",
        "print(discount)"
      ],
      "metadata": {
        "colab": {
          "base_uri": "https://localhost:8080/"
        },
        "id": "uVTkAcgf_ahv",
        "outputId": "21a2a63a-4ea3-48e9-a8bb-cd03282f243f"
      },
      "execution_count": null,
      "outputs": [
        {
          "output_type": "stream",
          "name": "stdout",
          "text": [
            "False\n"
          ]
        }
      ]
    },
    {
      "cell_type": "markdown",
      "source": [
        "Explanation: for the above scenario-\n",
        " Age is above 12\n",
        " Dosent qualify as Senior\n",
        " It is not a family day and the group size is less than 4.\n",
        " So none of the conditions match to secure a discount.\n",
        "\n"
      ],
      "metadata": {
        "id": "KRmh4TOgBmGd"
      }
    },
    {
      "cell_type": "markdown",
      "source": [
        "Question B:"
      ],
      "metadata": {
        "id": "7BEHAeYPCHS9"
      }
    },
    {
      "cell_type": "code",
      "source": [
        "age = 10\n",
        "is_weekday = True\n",
        "is_family_day = False\n",
        "group_size = 2\n"
      ],
      "metadata": {
        "id": "n9QhsW6iCZ3T"
      },
      "execution_count": null,
      "outputs": []
    },
    {
      "cell_type": "code",
      "source": [
        "discount = ((age <= 12 and is_weekday) or (age >= 65) or (is_family_day and group_size >= 4))\n",
        "print(discount)"
      ],
      "metadata": {
        "colab": {
          "base_uri": "https://localhost:8080/"
        },
        "id": "Ucu1O8Z-Ucbw",
        "outputId": "25c494e9-3743-4219-8922-4495e55904c4"
      },
      "execution_count": null,
      "outputs": [
        {
          "output_type": "stream",
          "name": "stdout",
          "text": [
            "True\n"
          ]
        }
      ]
    },
    {
      "cell_type": "markdown",
      "source": [
        " QUESTION C: Explanation: the above scenario satsifies the first condition the age of the person is less than equal to 12 and also it is a weekday."
      ],
      "metadata": {
        "id": "lyTiAo2dVH5R"
      }
    },
    {
      "cell_type": "markdown",
      "source": [
        "# SECTION 3: Strings, Indexing and Slicing"
      ],
      "metadata": {
        "id": "aI4U1y7YWOGI"
      }
    },
    {
      "cell_type": "markdown",
      "source": [
        "Question A:"
      ],
      "metadata": {
        "id": "EVlTR1ovXlAu"
      }
    },
    {
      "cell_type": "code",
      "source": [
        "secret_message = \"PyThoN_Is_FuN_AnD_PoWeRfUl!\"\n"
      ],
      "metadata": {
        "id": "PEKEPh2cXnjo"
      },
      "execution_count": null,
      "outputs": []
    },
    {
      "cell_type": "code",
      "source": [
        "print(secret_message[5])\n"
      ],
      "metadata": {
        "colab": {
          "base_uri": "https://localhost:8080/"
        },
        "id": "HYXWzIJBYdAO",
        "outputId": "e5dd9ed3-aff9-4e97-a520-76817ce93512"
      },
      "execution_count": null,
      "outputs": [
        {
          "output_type": "stream",
          "name": "stdout",
          "text": [
            "N\n"
          ]
        }
      ]
    },
    {
      "cell_type": "markdown",
      "source": [
        "Explanation: The index ranking starts from 0,1,2 etc. therefore choosing the indes as 5 will return the 6th character of the text that is 'N'."
      ],
      "metadata": {
        "id": "hp13rxfKY_i6"
      }
    },
    {
      "cell_type": "markdown",
      "source": [
        "Question B:"
      ],
      "metadata": {
        "id": "EF73VZRbZsA1"
      }
    },
    {
      "cell_type": "code",
      "source": [
        "substring = secret_message[7:13]\n",
        "print(substring)\n",
        "\n"
      ],
      "metadata": {
        "colab": {
          "base_uri": "https://localhost:8080/"
        },
        "id": "eGDj1NeoZuUS",
        "outputId": "7c29665c-86aa-49b5-f5a4-aadbdd7c403d"
      },
      "execution_count": null,
      "outputs": [
        {
          "output_type": "stream",
          "name": "stdout",
          "text": [
            "Is_FuN\n"
          ]
        }
      ]
    },
    {
      "cell_type": "markdown",
      "source": [
        "Explanation: We can use the slicing function for extracting a part of the text. So we type in 7-13(index ) 7th index inclusive and 13th index exclusive."
      ],
      "metadata": {
        "id": "Zbp3O8k9aztR"
      }
    },
    {
      "cell_type": "markdown",
      "source": [
        "Question C:"
      ],
      "metadata": {
        "id": "HAsgTKVXcHMb"
      }
    },
    {
      "cell_type": "code",
      "source": [
        "print(secret_message[-9:-1])"
      ],
      "metadata": {
        "colab": {
          "base_uri": "https://localhost:8080/"
        },
        "id": "pfTdVZllcKXh",
        "outputId": "5f5259ac-afba-41ac-f0da-5dc2d9b47e6a"
      },
      "execution_count": null,
      "outputs": [
        {
          "output_type": "stream",
          "name": "stdout",
          "text": [
            "PoWeRfUl\n"
          ]
        }
      ]
    },
    {
      "cell_type": "markdown",
      "source": [
        "Explanation: for using the negative index function and extracting a part of the message , we hve to define the index number as [-9 to -1] as the negative indexing starts from -1."
      ],
      "metadata": {
        "id": "y9YtVrKneknG"
      }
    },
    {
      "cell_type": "markdown",
      "source": [
        "Question D:"
      ],
      "metadata": {
        "id": "ojcdZZi8fNuT"
      }
    },
    {
      "cell_type": "code",
      "source": [
        "print(secret_message[::4])"
      ],
      "metadata": {
        "colab": {
          "base_uri": "https://localhost:8080/"
        },
        "id": "28zyJB9wfPt7",
        "outputId": "41151cf1-c5aa-4be0-818f-e33ecab9c61e"
      },
      "execution_count": null,
      "outputs": [
        {
          "output_type": "stream",
          "name": "stdout",
          "text": [
            "PosNDWU\n"
          ]
        }
      ]
    },
    {
      "cell_type": "markdown",
      "source": [
        "Explanation: [::4] indicates that it prints every 4th character simultaneously after each turn."
      ],
      "metadata": {
        "id": "hKH91wQ6gTmB"
      }
    },
    {
      "cell_type": "markdown",
      "source": [
        "Question E:"
      ],
      "metadata": {
        "id": "0IzhX5bY89Qz"
      }
    },
    {
      "cell_type": "code",
      "source": [
        "print= (secret_message[50])"
      ],
      "metadata": {
        "colab": {
          "base_uri": "https://localhost:8080/",
          "height": 141
        },
        "id": "9h72xdMp9EPf",
        "outputId": "a2b7b137-ef3e-4dd3-b615-282f42e5f6f3"
      },
      "execution_count": null,
      "outputs": [
        {
          "output_type": "error",
          "ename": "NameError",
          "evalue": "name 'secret_message' is not defined",
          "traceback": [
            "\u001b[0;31m---------------------------------------------------------------------------\u001b[0m",
            "\u001b[0;31mNameError\u001b[0m                                 Traceback (most recent call last)",
            "\u001b[0;32m<ipython-input-3-11842a762467>\u001b[0m in \u001b[0;36m<cell line: 0>\u001b[0;34m()\u001b[0m\n\u001b[0;32m----> 1\u001b[0;31m \u001b[0mprint\u001b[0m\u001b[0;34m=\u001b[0m \u001b[0;34m(\u001b[0m\u001b[0msecret_message\u001b[0m\u001b[0;34m[\u001b[0m\u001b[0;36m50\u001b[0m\u001b[0;34m]\u001b[0m\u001b[0;34m)\u001b[0m\u001b[0;34m\u001b[0m\u001b[0;34m\u001b[0m\u001b[0m\n\u001b[0m",
            "\u001b[0;31mNameError\u001b[0m: name 'secret_message' is not defined"
          ]
        }
      ]
    },
    {
      "cell_type": "markdown",
      "source": [
        "Explanation: it pops out an error becuase the string(secret message)does not have 50 characters."
      ],
      "metadata": {
        "id": "4rLC2-w29liO"
      }
    },
    {
      "cell_type": "markdown",
      "source": [
        "# SECTION 4: Boleean Values and Expression"
      ],
      "metadata": {
        "id": "UiP8FG1J95M-"
      }
    },
    {
      "cell_type": "code",
      "source": [
        "x = 15\n",
        "y = 25\n",
        "z = 15\n",
        "text = \"adventure\"\n"
      ],
      "metadata": {
        "id": "HD9a5m-P-KG9"
      },
      "execution_count": null,
      "outputs": []
    },
    {
      "cell_type": "markdown",
      "source": [
        "Question A:"
      ],
      "metadata": {
        "id": "O62w11wU-FJ0"
      }
    },
    {
      "cell_type": "code",
      "source": [
        "print((x == z) and (y > x))\n"
      ],
      "metadata": {
        "colab": {
          "base_uri": "https://localhost:8080/"
        },
        "id": "0gsXuKUe-Q5K",
        "outputId": "1581abf2-ced2-4118-d141-6351c9bef656"
      },
      "execution_count": null,
      "outputs": [
        {
          "output_type": "stream",
          "name": "stdout",
          "text": [
            "True\n"
          ]
        }
      ]
    },
    {
      "cell_type": "markdown",
      "source": [
        "Explanation: The value of x(15) is equal to the value of z(15) and the value of y(25) is greater than x. Therefore the final output is True."
      ],
      "metadata": {
        "id": "mhENqRun-qKg"
      }
    },
    {
      "cell_type": "markdown",
      "source": [
        "  Question B:\n",
        "  "
      ],
      "metadata": {
        "id": "3BtUfvbo_SHx"
      }
    },
    {
      "cell_type": "code",
      "source": [
        "print((x != z) or (y < x) or (len(text) < 5))\n"
      ],
      "metadata": {
        "colab": {
          "base_uri": "https://localhost:8080/"
        },
        "id": "TTY0BDunA2C9",
        "outputId": "3158969a-acd9-44ed-87e4-fa30a534bc7e"
      },
      "execution_count": null,
      "outputs": [
        {
          "output_type": "stream",
          "name": "stdout",
          "text": [
            "False\n"
          ]
        }
      ]
    },
    {
      "cell_type": "markdown",
      "source": [
        "Explanation: The final output is false because the value of x(15) is equal to y(25), the value of y is greater than x and the length of the string is 9 and not 5."
      ],
      "metadata": {
        "id": "lTS61oe1A5UD"
      }
    },
    {
      "cell_type": "markdown",
      "source": [
        "Question C:"
      ],
      "metadata": {
        "id": "KAwIOMxoAE4X"
      }
    },
    {
      "cell_type": "code",
      "source": [
        "print(not ((x > y) and (text == \"Adventure\")))\n"
      ],
      "metadata": {
        "colab": {
          "base_uri": "https://localhost:8080/"
        },
        "id": "L1r3Ny6V_dIl",
        "outputId": "5b485fb0-4557-4447-f1dc-b0423d5b30ca"
      },
      "execution_count": null,
      "outputs": [
        {
          "output_type": "stream",
          "name": "stdout",
          "text": [
            "True\n"
          ]
        }
      ]
    },
    {
      "cell_type": "markdown",
      "source": [
        "Explanation: The value of x(15) is not greater than the value of y(250 and the text does not match the given string \"adventure\"."
      ],
      "metadata": {
        "id": "qDSQRM_Q_lQY"
      }
    },
    {
      "cell_type": "markdown",
      "source": [
        "# SECTION 5: STRING PROPERTIES AND METHODS:"
      ],
      "metadata": {
        "id": "5jXhm4PUChGy"
      }
    },
    {
      "cell_type": "markdown",
      "source": [
        "Question A:"
      ],
      "metadata": {
        "id": "YAyJ4jGHCs1m"
      }
    },
    {
      "cell_type": "code",
      "source": [
        "username = \"MyUser123\"\n",
        "username[0] = 'm'\n"
      ],
      "metadata": {
        "colab": {
          "base_uri": "https://localhost:8080/",
          "height": 158
        },
        "id": "-zL4ObS6Cven",
        "outputId": "e59e8f76-7327-4155-a159-d3d20801b179"
      },
      "execution_count": null,
      "outputs": [
        {
          "output_type": "error",
          "ename": "TypeError",
          "evalue": "'str' object does not support item assignment",
          "traceback": [
            "\u001b[0;31m---------------------------------------------------------------------------\u001b[0m",
            "\u001b[0;31mTypeError\u001b[0m                                 Traceback (most recent call last)",
            "\u001b[0;32m<ipython-input-8-d8b0112b7e01>\u001b[0m in \u001b[0;36m<cell line: 0>\u001b[0;34m()\u001b[0m\n\u001b[1;32m      1\u001b[0m \u001b[0musername\u001b[0m \u001b[0;34m=\u001b[0m \u001b[0;34m\"MyUser123\"\u001b[0m\u001b[0;34m\u001b[0m\u001b[0;34m\u001b[0m\u001b[0m\n\u001b[0;32m----> 2\u001b[0;31m \u001b[0musername\u001b[0m\u001b[0;34m[\u001b[0m\u001b[0;36m0\u001b[0m\u001b[0;34m]\u001b[0m \u001b[0;34m=\u001b[0m \u001b[0;34m'm'\u001b[0m\u001b[0;34m\u001b[0m\u001b[0;34m\u001b[0m\u001b[0m\n\u001b[0m",
            "\u001b[0;31mTypeError\u001b[0m: 'str' object does not support item assignment"
          ]
        }
      ]
    },
    {
      "cell_type": "markdown",
      "source": [
        "Explanation: once the string is created, the characters of the string cannot be modified using indexing function."
      ],
      "metadata": {
        "id": "nRcaJZocDvMW"
      }
    },
    {
      "cell_type": "markdown",
      "source": [
        "Question B:"
      ],
      "metadata": {
        "id": "9QfhewYd9e2r"
      }
    },
    {
      "cell_type": "code",
      "source": [
        "quote = \" practice makes perfect \"\n",
        "\n",
        "\n"
      ],
      "metadata": {
        "id": "YwXU7Hv69h73"
      },
      "execution_count": 1,
      "outputs": []
    },
    {
      "cell_type": "code",
      "source": [
        "quote = quote.strip()\n",
        "quote = quote.upper()\n",
        "quote = quote.replace(\"PERFECT\",\"PROGRESS\")\n",
        "print(quote)"
      ],
      "metadata": {
        "colab": {
          "base_uri": "https://localhost:8080/"
        },
        "id": "YJsO9OsE-Yc5",
        "outputId": "fd0fa039-5b31-46eb-b52e-8cf784d264e1"
      },
      "execution_count": 2,
      "outputs": [
        {
          "output_type": "stream",
          "name": "stdout",
          "text": [
            "PRACTICE MAKES PROGRESS\n"
          ]
        }
      ]
    },
    {
      "cell_type": "markdown",
      "source": [
        "Explanation: By using the strip function, we removed the spaces at the beginning and end of the string.\n",
        "By using the upper function we changed the character case from lower to upper and replace function changed the word from perfect to progress."
      ],
      "metadata": {
        "id": "dplTzAXo--6J"
      }
    },
    {
      "cell_type": "markdown",
      "source": [
        "Question C:"
      ],
      "metadata": {
        "id": "GEWwZEtW_6ip"
      }
    },
    {
      "cell_type": "code",
      "source": [
        "original = \" practice makes perfect \"\n",
        "formatted = quote"
      ],
      "metadata": {
        "id": "hLItnpjz_9up"
      },
      "execution_count": 3,
      "outputs": []
    },
    {
      "cell_type": "code",
      "source": [
        "print(\"Original length of the string:\", len(original))\n",
        "print(\"Formatted length of the string:\", len(formatted))"
      ],
      "metadata": {
        "colab": {
          "base_uri": "https://localhost:8080/"
        },
        "id": "stFEsSt0A9j7",
        "outputId": "bf631c07-a352-4428-a4b0-0ee8ef647509"
      },
      "execution_count": 4,
      "outputs": [
        {
          "output_type": "stream",
          "name": "stdout",
          "text": [
            "Original length of the string: 24\n",
            "Formatted length of the string: 23\n"
          ]
        }
      ]
    },
    {
      "cell_type": "markdown",
      "source": [
        "Explanation: The length of the original string was 24, After formatting the quote it is 23 as the spaces from either ends are removed."
      ],
      "metadata": {
        "id": "VlyA3MWXBJlq"
      }
    }
  ]
}